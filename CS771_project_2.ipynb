{
  "nbformat": 4,
  "nbformat_minor": 0,
  "metadata": {
    "colab": {
      "provenance": [],
      "authorship_tag": "ABX9TyMvBE4Xo7q7WrDk+0NHRhNM",
      "include_colab_link": true
    },
    "kernelspec": {
      "name": "python3",
      "display_name": "Python 3"
    },
    "language_info": {
      "name": "python"
    }
  },
  "cells": [
    {
      "cell_type": "markdown",
      "metadata": {
        "id": "view-in-github",
        "colab_type": "text"
      },
      "source": [
        "<a href=\"https://colab.research.google.com/github/amit6895/HexaCaptcha/blob/main/CS771_project_2.ipynb\" target=\"_parent\"><img src=\"https://colab.research.google.com/assets/colab-badge.svg\" alt=\"Open In Colab\"/></a>"
      ]
    },
    {
      "cell_type": "code",
      "execution_count": 24,
      "metadata": {
        "id": "hdPmoz6WdHt4"
      },
      "outputs": [],
      "source": [
        "# import zipfile\n",
        "\n",
        "# !wget https://www.cse.iitk.ac.in/users/purushot/courses/ml/2022-23-s/material/assn/assn2.zip\n",
        "\n",
        "# zip_ref = zipfile.ZipFile(\"assn2.zip\" ,  \"r\")\n",
        "# zip_ref.extractall()\n",
        "# zip_ref.close()"
      ]
    },
    {
      "cell_type": "code",
      "source": [
        "import zipfile\n",
        "\n",
        "!wget https://github.com/amit6895/HexaCaptcha/raw/main/assn2.zip\n",
        "\n",
        "zip_ref = zipfile.ZipFile(\"assn2.zip\" ,  \"r\")\n",
        "zip_ref.extractall()\n",
        "zip_ref.close()"
      ],
      "metadata": {
        "colab": {
          "base_uri": "https://localhost:8080/"
        },
        "id": "d-FMx3ZkuZwz",
        "outputId": "e73362ef-5534-459e-a5d3-1d208f5d989a"
      },
      "execution_count": 25,
      "outputs": [
        {
          "output_type": "stream",
          "name": "stdout",
          "text": [
            "--2023-08-25 07:14:47--  https://github.com/amit6895/HexaCaptcha/raw/main/assn2.zip\n",
            "Resolving github.com (github.com)... 140.82.114.3\n",
            "Connecting to github.com (github.com)|140.82.114.3|:443... connected.\n",
            "HTTP request sent, awaiting response... 302 Found\n",
            "Location: https://raw.githubusercontent.com/amit6895/HexaCaptcha/main/assn2.zip [following]\n",
            "--2023-08-25 07:14:47--  https://raw.githubusercontent.com/amit6895/HexaCaptcha/main/assn2.zip\n",
            "Resolving raw.githubusercontent.com (raw.githubusercontent.com)... 185.199.108.133, 185.199.109.133, 185.199.110.133, ...\n",
            "Connecting to raw.githubusercontent.com (raw.githubusercontent.com)|185.199.108.133|:443... connected.\n",
            "HTTP request sent, awaiting response... 200 OK\n",
            "Length: 59842602 (57M) [application/zip]\n",
            "Saving to: ‘assn2.zip.1’\n",
            "\n",
            "assn2.zip.1         100%[===================>]  57.07M   221MB/s    in 0.3s    \n",
            "\n",
            "2023-08-25 07:14:48 (221 MB/s) - ‘assn2.zip.1’ saved [59842602/59842602]\n",
            "\n"
          ]
        }
      ]
    },
    {
      "cell_type": "code",
      "source": [
        "import os\n",
        "\n",
        "num= len(os.listdir(\"assn2/train/\"))\n",
        "num"
      ],
      "metadata": {
        "colab": {
          "base_uri": "https://localhost:8080/"
        },
        "id": "YF2-Rwz5dry-",
        "outputId": "880df175-f061-4f3e-a417-4d529b26c374"
      },
      "execution_count": 26,
      "outputs": [
        {
          "output_type": "execute_result",
          "data": {
            "text/plain": [
              "2001"
            ]
          },
          "metadata": {},
          "execution_count": 26
        }
      ]
    },
    {
      "cell_type": "markdown",
      "source": [
        "### Loading data and preprossing"
      ],
      "metadata": {
        "id": "Kk-iGhM4dvIh"
      }
    },
    {
      "cell_type": "code",
      "source": [
        "import os\n",
        "import cv2\n",
        "import numpy as np\n",
        "from PIL import Image as img\n",
        "# Directory containing the images\n",
        "def load_images(directory):\n",
        "  #directory = 'assn2/train'\n",
        "  num= len(os.listdir(directory))-1 ;\n",
        "  print(num)\n",
        "  # List to store the loaded images\n",
        "  images = []\n",
        "\n",
        "  # Iterate over the files in the directory\n",
        "  for i in range(num):\n",
        "    filename = f\"{i}.png\"\n",
        "    # Construct the full file path\n",
        "    #print(filename)\n",
        "    file_path = os.path.join(directory, filename)\n",
        "\n",
        "    # Load the image using OpenCV\n",
        "    image = img.open(file_path)\n",
        "    \"\"\"\"\"\"\n",
        "    test_image_array = np.array(image)\n",
        "    red,green,blue,alpha = image.split()\n",
        "    #test_image.show()\n",
        "    alpha_3 = np.array(alpha)\n",
        "    #alpha_3 = np.where(alpha_3==255,0,alpha_3)\n",
        "    #cv2_imshow(alpha_3)\n",
        "    #alpha_3 = np.where(alpha_3>0,255,alpha_3)\n",
        "    #cv2_imshow(alpha_3)\n",
        "    image_bgr = cv2.imread(os.path.join(directory, filename))\n",
        "    # Convert BGR image to HSV\n",
        "    image_hsv = cv2.cvtColor(image_bgr, cv2.COLOR_BGR2HSV)\n",
        "    # Access individual channels (H, S, V)\n",
        "    h, s, v = cv2.split(image_hsv)\n",
        "    hue_channel = image_hsv[:,:,0]\n",
        "    index = np.where(hue_channel==np.max(hue_channel))\n",
        "    index_s = np.where(s<250)\n",
        "    index_v = np.where(v<253)\n",
        "    index_h = np.where(h>100)\n",
        "    #index_2 = np.where(alpha_3<255)\n",
        "    #alpha_3 = np.where(hue_channel==hue_channel[0][0],alplha_3=255,alpha_3)\n",
        "    index_2 = np.where(test_image_array[:,:,3]<255)\n",
        "    test_image_array[index_2] = [255,255,255,0]\n",
        "    #cv2_imshow(test_image_array)\n",
        "    test_image_array[index_s] = [255,255,255,0]\n",
        "    #cv2_imshow(test_image_array)\n",
        "    right_half = test_image_array[:, 368:446]\n",
        "    #cv2_imshow(right_half)\n",
        "    ###########shi################\n",
        "    final_hsv = cv2.cvtColor(right_half, cv2.COLOR_BGR2HSV)\n",
        "    np.unique(final_hsv[:,:,0])\n",
        "    final_h, final_s, final_v = cv2.split(final_hsv)\n",
        "    '''t = np.unique(final_h, return_counts=True)\n",
        "    print(\"t:\",t)\n",
        "    ind = np.where(t[1]==np.max(t[1][1:]))\n",
        "    #print(t[ind[0][0]])\n",
        "    last_index = np.where(final_h!=t[0][ind])\n",
        "    right_half[last_index] = [255]\n",
        "    cv2_imshow(right_half)\n",
        "    cv2_imshow(cv2.cvtColor(right_half,cv2.COLOR_BGR2GRAY))'''\n",
        "    t = np.unique(final_hsv, return_counts=True)\n",
        "    #print(\"t:\",t)\n",
        "    ind = np.where(t[1]==np.max(t[1][1:]))\n",
        "    #print(t[ind[0][0]])\n",
        "    last_index = np.where(final_hsv>200)\n",
        "    right_half[last_index] = [255]\n",
        "    #cv2_imshow(right_half)\n",
        "    #cv2_imshow(cv2.cvtColor(right_half,cv2.COLOR_BGR2GRAY))\n",
        "    # Add the image to the list\n",
        "    images.append(cv2.resize(cv2.cvtColor(right_half,cv2.COLOR_BGR2GRAY),(28,28)))\n",
        "  '''for i in range(num):\n",
        "    images[i]=images[i][:,350:450]'''\n",
        "\n",
        "  images= np.array(images)\n",
        "  return images\n"
      ],
      "metadata": {
        "id": "cF3b4CGLeAPu"
      },
      "execution_count": 27,
      "outputs": []
    },
    {
      "cell_type": "markdown",
      "source": [
        "###Loading labels from the folder and making them into format of 0, 1"
      ],
      "metadata": {
        "id": "YaUSQonieD1r"
      }
    },
    {
      "cell_type": "code",
      "source": [
        "def load_labels(directory):\n",
        "  def convert_labels(labels):\n",
        "    mapping = {'ODD': 0, 'EVEN': 1}\n",
        "    converted_labels = [mapping[label] for label in labels]\n",
        "    return converted_labels\n",
        "\n",
        "  filename=\"labels.txt\"\n",
        "  file_path = os.path.join(directory, filename)\n",
        "  # reading the file\n",
        "  my_file = open(file_path , \"r\")\n",
        "  data = my_file.read()\n",
        "\n",
        "  # replacing end splitting the text\n",
        "  # when newline ('\\n') is seen.\n",
        "  data_into_list = data.split(\"\\n\")\n",
        "  data_len= len(data_into_list)-1\n",
        "  data_into_list=data_into_list[:data_len]\n",
        "  print(len(data_into_list))\n",
        "  my_file.close()\n",
        "  return np.array(convert_labels(data_into_list))"
      ],
      "metadata": {
        "id": "UlXHk_meeKS6"
      },
      "execution_count": 28,
      "outputs": []
    },
    {
      "cell_type": "code",
      "source": [
        "images = load_images(\"assn2/train\")\n",
        "labels = load_labels(\"assn2/train\")"
      ],
      "metadata": {
        "colab": {
          "base_uri": "https://localhost:8080/"
        },
        "id": "XM562-V-eNic",
        "outputId": "815176e5-843c-4dd8-a0dd-8a35ba088f82"
      },
      "execution_count": 29,
      "outputs": [
        {
          "output_type": "stream",
          "name": "stdout",
          "text": [
            "2000\n",
            "2000\n"
          ]
        }
      ]
    },
    {
      "cell_type": "code",
      "source": [
        "images.shape"
      ],
      "metadata": {
        "colab": {
          "base_uri": "https://localhost:8080/"
        },
        "id": "rJ4Qr2izeZBW",
        "outputId": "6a374b36-2d04-44b6-fbfe-87a271153c0e"
      },
      "execution_count": 30,
      "outputs": [
        {
          "output_type": "execute_result",
          "data": {
            "text/plain": [
              "(2000, 28, 28)"
            ]
          },
          "metadata": {},
          "execution_count": 30
        }
      ]
    },
    {
      "cell_type": "code",
      "source": [
        "from google.colab.patches import cv2_imshow\n",
        "cv2_imshow(images[2])"
      ],
      "metadata": {
        "colab": {
          "base_uri": "https://localhost:8080/",
          "height": 45
        },
        "id": "gX6aPpVMecnx",
        "outputId": "71252258-382a-424a-878f-0dfa7ce6a662"
      },
      "execution_count": 31,
      "outputs": [
        {
          "output_type": "display_data",
          "data": {
            "text/plain": [
              "<PIL.Image.Image image mode=L size=28x28>"
            ],
            "image/png": "[encoded data removed]"
          },
          "metadata": {}
        }
      ]
    },
    {
      "cell_type": "code",
      "source": [
        "labels[2]"
      ],
      "metadata": {
        "colab": {
          "base_uri": "https://localhost:8080/"
        },
        "id": "9DB4Eh18SmMv",
        "outputId": "5148991f-b098-4c94-bd2b-09e29b381b64"
      },
      "execution_count": 32,
      "outputs": [
        {
          "output_type": "execute_result",
          "data": {
            "text/plain": [
              "0"
            ]
          },
          "metadata": {},
          "execution_count": 32
        }
      ]
    },
    {
      "cell_type": "code",
      "source": [
        "labels.shape"
      ],
      "metadata": {
        "colab": {
          "base_uri": "https://localhost:8080/"
        },
        "id": "X12i5MAVefgG",
        "outputId": "b1908439-ae69-46c4-fa5a-042636dc769a"
      },
      "execution_count": 33,
      "outputs": [
        {
          "output_type": "execute_result",
          "data": {
            "text/plain": [
              "(2000,)"
            ]
          },
          "metadata": {},
          "execution_count": 33
        }
      ]
    },
    {
      "cell_type": "markdown",
      "source": [
        "##Standardization"
      ],
      "metadata": {
        "id": "X-kfBPm1em1_"
      }
    },
    {
      "cell_type": "code",
      "source": [
        "import os\n",
        "import cv2\n",
        "import numpy as np\n",
        "from sklearn.model_selection import train_test_split\n",
        "from tensorflow.keras.layers import Flatten"
      ],
      "metadata": {
        "id": "KcptOoCietp-"
      },
      "execution_count": 34,
      "outputs": []
    },
    {
      "cell_type": "code",
      "source": [
        "def img_flatten(X):\n",
        "  X_train =[]\n",
        "  num = len(X)\n",
        "  print(num)\n",
        "  X = X/255.\n",
        "  for i in range(num):\n",
        "    X_train.append( X[i].flatten())\n",
        "\n",
        "  X_train = np.array(X_train)\n",
        "  return X_train"
      ],
      "metadata": {
        "id": "HCc-rXaWOtQb"
      },
      "execution_count": 35,
      "outputs": []
    },
    {
      "cell_type": "code",
      "source": [
        "X_train = img_flatten(images)"
      ],
      "metadata": {
        "id": "SXQxM8BMPKmT",
        "colab": {
          "base_uri": "https://localhost:8080/"
        },
        "outputId": "ac9337f0-6430-4338-f80b-4ddabcabc935"
      },
      "execution_count": 36,
      "outputs": [
        {
          "output_type": "stream",
          "name": "stdout",
          "text": [
            "2000\n"
          ]
        }
      ]
    },
    {
      "cell_type": "code",
      "source": [
        "X_train.shape , labels.shape"
      ],
      "metadata": {
        "colab": {
          "base_uri": "https://localhost:8080/"
        },
        "id": "gpKmC26CaEFO",
        "outputId": "2e1364ee-4a5b-4268-d013-e50062dd0950"
      },
      "execution_count": 37,
      "outputs": [
        {
          "output_type": "execute_result",
          "data": {
            "text/plain": [
              "((2000, 784), (2000,))"
            ]
          },
          "metadata": {},
          "execution_count": 37
        }
      ]
    },
    {
      "cell_type": "code",
      "source": [
        "X_train, X_test, y_train, y_test = train_test_split(X_train, labels, test_size=0.3 , random_state = 42)"
      ],
      "metadata": {
        "id": "SDNE0kVjZKZ_"
      },
      "execution_count": 38,
      "outputs": []
    },
    {
      "cell_type": "code",
      "source": [
        "from sklearn.svm import SVC\n",
        "classifier = SVC(kernel = 'linear', random_state = 0)\n",
        "classifier.fit(X_train, y_train)"
      ],
      "metadata": {
        "colab": {
          "base_uri": "https://localhost:8080/",
          "height": 74
        },
        "id": "-XbONUFxfDOh",
        "outputId": "b011f395-d86d-4d02-e1be-b8d9b701d4ad"
      },
      "execution_count": 39,
      "outputs": [
        {
          "output_type": "execute_result",
          "data": {
            "text/plain": [
              "SVC(kernel='linear', random_state=0)"
            ],
            "text/html": [
              "<style>#sk-container-id-2 {color: black;background-color: white;}#sk-container-id-2 pre{padding: 0;}#sk-container-id-2 div.sk-toggleable {background-color: white;}#sk-container-id-2 label.sk-toggleable__label {cursor: pointer;display: block;width: 100%;margin-bottom: 0;padding: 0.3em;box-sizing: border-box;text-align: center;}#sk-container-id-2 label.sk-toggleable__label-arrow:before {content: \"▸\";float: left;margin-right: 0.25em;color: #696969;}#sk-container-id-2 label.sk-toggleable__label-arrow:hover:before {color: black;}#sk-container-id-2 div.sk-estimator:hover label.sk-toggleable__label-arrow:before {color: black;}#sk-container-id-2 div.sk-toggleable__content {max-height: 0;max-width: 0;overflow: hidden;text-align: left;background-color: #f0f8ff;}#sk-container-id-2 div.sk-toggleable__content pre {margin: 0.2em;color: black;border-radius: 0.25em;background-color: #f0f8ff;}#sk-container-id-2 input.sk-toggleable__control:checked~div.sk-toggleable__content {max-height: 200px;max-width: 100%;overflow: auto;}#sk-container-id-2 input.sk-toggleable__control:checked~label.sk-toggleable__label-arrow:before {content: \"▾\";}#sk-container-id-2 div.sk-estimator input.sk-toggleable__control:checked~label.sk-toggleable__label {background-color: #d4ebff;}#sk-container-id-2 div.sk-label input.sk-toggleable__control:checked~label.sk-toggleable__label {background-color: #d4ebff;}#sk-container-id-2 input.sk-hidden--visually {border: 0;clip: rect(1px 1px 1px 1px);clip: rect(1px, 1px, 1px, 1px);height: 1px;margin: -1px;overflow: hidden;padding: 0;position: absolute;width: 1px;}#sk-container-id-2 div.sk-estimator {font-family: monospace;background-color: #f0f8ff;border: 1px dotted black;border-radius: 0.25em;box-sizing: border-box;margin-bottom: 0.5em;}#sk-container-id-2 div.sk-estimator:hover {background-color: #d4ebff;}#sk-container-id-2 div.sk-parallel-item::after {content: \"\";width: 100%;border-bottom: 1px solid gray;flex-grow: 1;}#sk-container-id-2 div.sk-label:hover label.sk-toggleable__label {background-color: #d4ebff;}#sk-container-id-2 div.sk-serial::before {content: \"\";position: absolute;border-left: 1px solid gray;box-sizing: border-box;top: 0;bottom: 0;left: 50%;z-index: 0;}#sk-container-id-2 div.sk-serial {display: flex;flex-direction: column;align-items: center;background-color: white;padding-right: 0.2em;padding-left: 0.2em;position: relative;}#sk-container-id-2 div.sk-item {position: relative;z-index: 1;}#sk-container-id-2 div.sk-parallel {display: flex;align-items: stretch;justify-content: center;background-color: white;position: relative;}#sk-container-id-2 div.sk-item::before, #sk-container-id-2 div.sk-parallel-item::before {content: \"\";position: absolute;border-left: 1px solid gray;box-sizing: border-box;top: 0;bottom: 0;left: 50%;z-index: -1;}#sk-container-id-2 div.sk-parallel-item {display: flex;flex-direction: column;z-index: 1;position: relative;background-color: white;}#sk-container-id-2 div.sk-parallel-item:first-child::after {align-self: flex-end;width: 50%;}#sk-container-id-2 div.sk-parallel-item:last-child::after {align-self: flex-start;width: 50%;}#sk-container-id-2 div.sk-parallel-item:only-child::after {width: 0;}#sk-container-id-2 div.sk-dashed-wrapped {border: 1px dashed gray;margin: 0 0.4em 0.5em 0.4em;box-sizing: border-box;padding-bottom: 0.4em;background-color: white;}#sk-container-id-2 div.sk-label label {font-family: monospace;font-weight: bold;display: inline-block;line-height: 1.2em;}#sk-container-id-2 div.sk-label-container {text-align: center;}#sk-container-id-2 div.sk-container {/* jupyter's `normalize.less` sets `[hidden] { display: none; }` but bootstrap.min.css set `[hidden] { display: none !important; }` so we also need the `!important` here to be able to override the default hidden behavior on the sphinx rendered scikit-learn.org. See: https://github.com/scikit-learn/scikit-learn/issues/21755 */display: inline-block !important;position: relative;}#sk-container-id-2 div.sk-text-repr-fallback {display: none;}</style><div id=\"sk-container-id-2\" class=\"sk-top-container\"><div class=\"sk-text-repr-fallback\"><pre>SVC(kernel=&#x27;linear&#x27;, random_state=0)</pre><b>In a Jupyter environment, please rerun this cell to show the HTML representation or trust the notebook. <br />On GitHub, the HTML representation is unable to render, please try loading this page with nbviewer.org.</b></div><div class=\"sk-container\" hidden><div class=\"sk-item\"><div class=\"sk-estimator sk-toggleable\"><input class=\"sk-toggleable__control sk-hidden--visually\" id=\"sk-estimator-id-2\" type=\"checkbox\" checked><label for=\"sk-estimator-id-2\" class=\"sk-toggleable__label sk-toggleable__label-arrow\">SVC</label><div class=\"sk-toggleable__content\"><pre>SVC(kernel=&#x27;linear&#x27;, random_state=0)</pre></div></div></div></div></div>"
            ]
          },
          "metadata": {},
          "execution_count": 39
        }
      ]
    },
    {
      "cell_type": "code",
      "source": [
        "preds = classifier.predict(X_test)\n",
        "preds"
      ],
      "metadata": {
        "id": "fCFpeEPefZne",
        "colab": {
          "base_uri": "https://localhost:8080/"
        },
        "outputId": "64d50638-9a51-4223-c3bd-fe218351a640"
      },
      "execution_count": 40,
      "outputs": [
        {
          "output_type": "execute_result",
          "data": {
            "text/plain": [
              "array([1, 0, 1, 1, 1, 0, 0, 1, 1, 1, 1, 0, 0, 1, 1, 1, 0, 0, 1, 0, 1, 0,\n",
              "       1, 1, 1, 1, 0, 0, 1, 0, 1, 0, 1, 0, 1, 0, 1, 1, 0, 1, 1, 1, 0, 0,\n",
              "       0, 1, 1, 0, 1, 0, 0, 0, 0, 0, 1, 1, 1, 0, 1, 1, 1, 1, 1, 1, 1, 1,\n",
              "       0, 0, 0, 1, 1, 1, 0, 1, 1, 0, 1, 1, 1, 1, 1, 0, 0, 0, 0, 1, 1, 1,\n",
              "       1, 0, 0, 1, 0, 1, 1, 0, 1, 0, 1, 1, 0, 0, 1, 1, 1, 0, 1, 1, 1, 0,\n",
              "       1, 1, 0, 0, 0, 0, 0, 1, 0, 1, 0, 1, 1, 1, 0, 1, 1, 0, 1, 0, 0, 1,\n",
              "       0, 1, 0, 1, 0, 1, 1, 1, 0, 0, 0, 0, 1, 0, 1, 1, 1, 1, 0, 0, 1, 0,\n",
              "       0, 1, 0, 0, 0, 1, 0, 0, 0, 0, 0, 0, 0, 0, 1, 1, 1, 1, 0, 1, 1, 1,\n",
              "       1, 1, 1, 1, 1, 1, 0, 0, 1, 1, 1, 1, 0, 0, 1, 1, 1, 0, 0, 1, 1, 0,\n",
              "       0, 0, 0, 0, 0, 0, 1, 1, 0, 1, 1, 1, 1, 0, 0, 1, 1, 1, 1, 0, 1, 1,\n",
              "       0, 0, 1, 0, 0, 1, 1, 1, 1, 0, 0, 1, 0, 0, 1, 0, 1, 0, 0, 0, 0, 0,\n",
              "       0, 1, 0, 1, 0, 1, 0, 0, 1, 1, 0, 1, 0, 0, 0, 1, 0, 1, 0, 0, 1, 0,\n",
              "       0, 0, 0, 0, 1, 0, 0, 1, 1, 0, 1, 1, 1, 1, 0, 0, 0, 1, 1, 1, 1, 1,\n",
              "       0, 0, 1, 0, 0, 0, 1, 1, 0, 0, 0, 1, 0, 0, 1, 1, 1, 1, 0, 1, 1, 1,\n",
              "       0, 0, 1, 1, 0, 0, 1, 0, 1, 0, 1, 1, 1, 1, 0, 0, 0, 0, 0, 0, 1, 0,\n",
              "       1, 0, 0, 0, 1, 1, 0, 0, 1, 1, 1, 0, 1, 1, 1, 1, 0, 1, 1, 0, 1, 0,\n",
              "       0, 1, 1, 1, 0, 1, 0, 0, 0, 0, 1, 1, 1, 0, 1, 0, 0, 1, 0, 1, 1, 0,\n",
              "       0, 0, 1, 0, 1, 0, 0, 0, 0, 0, 1, 1, 1, 0, 1, 1, 1, 1, 0, 1, 0, 1,\n",
              "       0, 1, 0, 1, 1, 0, 0, 0, 0, 0, 0, 1, 0, 0, 1, 0, 1, 1, 1, 1, 1, 1,\n",
              "       1, 1, 1, 1, 1, 1, 0, 0, 1, 1, 0, 0, 0, 1, 0, 0, 1, 1, 1, 0, 1, 1,\n",
              "       1, 0, 1, 0, 0, 0, 1, 0, 1, 1, 1, 1, 0, 1, 1, 1, 0, 1, 1, 1, 1, 0,\n",
              "       1, 0, 1, 0, 0, 0, 1, 1, 0, 0, 1, 0, 0, 0, 0, 1, 1, 1, 0, 0, 0, 1,\n",
              "       0, 0, 0, 0, 1, 0, 1, 0, 0, 1, 1, 0, 0, 0, 1, 0, 1, 1, 1, 1, 0, 1,\n",
              "       1, 1, 0, 1, 1, 0, 1, 1, 0, 0, 1, 1, 1, 0, 0, 0, 1, 0, 1, 0, 0, 0,\n",
              "       1, 1, 1, 1, 0, 1, 0, 1, 0, 1, 0, 1, 0, 1, 0, 0, 1, 0, 0, 1, 0, 0,\n",
              "       1, 0, 1, 0, 0, 1, 0, 0, 0, 1, 1, 0, 0, 0, 1, 0, 0, 0, 0, 0, 1, 0,\n",
              "       1, 1, 1, 0, 0, 0, 1, 1, 0, 0, 1, 0, 1, 0, 0, 1, 1, 0, 0, 1, 1, 0,\n",
              "       0, 0, 0, 1, 1, 1])"
            ]
          },
          "metadata": {},
          "execution_count": 40
        }
      ]
    },
    {
      "cell_type": "code",
      "source": [
        "from sklearn.metrics import accuracy_score\n",
        "accuracy_score(y_test, preds)"
      ],
      "metadata": {
        "colab": {
          "base_uri": "https://localhost:8080/"
        },
        "id": "FbO5O4y4IxxR",
        "outputId": "a21de228-e6a3-4801-835e-144668f126e9"
      },
      "execution_count": 41,
      "outputs": [
        {
          "output_type": "execute_result",
          "data": {
            "text/plain": [
              "1.0"
            ]
          },
          "metadata": {},
          "execution_count": 41
        }
      ]
    },
    {
      "cell_type": "markdown",
      "source": [
        "## test data"
      ],
      "metadata": {
        "id": "MXpAA7oNPtDf"
      }
    },
    {
      "cell_type": "code",
      "source": [
        "test_images = load_images(\"/content/assn2/dummy_submit/test\")\n",
        "cv2_imshow(test_images[2])"
      ],
      "metadata": {
        "colab": {
          "base_uri": "https://localhost:8080/",
          "height": 62
        },
        "id": "ZdlByrfuOJaO",
        "outputId": "fa1a5f05-f21a-4187-8dc0-4ea21192959f"
      },
      "execution_count": 42,
      "outputs": [
        {
          "output_type": "stream",
          "name": "stdout",
          "text": [
            "7\n"
          ]
        },
        {
          "output_type": "display_data",
          "data": {
            "text/plain": [
              "<PIL.Image.Image image mode=L size=28x28>"
            ],
            "image/png": "[encoded data removed]"
          },
          "metadata": {}
        }
      ]
    },
    {
      "cell_type": "code",
      "source": [
        "test_labels = load_labels(\"/content/assn2/dummy_submit/test\")\n",
        "test_labels"
      ],
      "metadata": {
        "colab": {
          "base_uri": "https://localhost:8080/"
        },
        "id": "PaYmIArhOlUr",
        "outputId": "9b7f5fcc-adae-41fe-bbe7-acb9ba0529a7"
      },
      "execution_count": 43,
      "outputs": [
        {
          "output_type": "stream",
          "name": "stdout",
          "text": [
            "7\n"
          ]
        },
        {
          "output_type": "execute_result",
          "data": {
            "text/plain": [
              "array([0, 0, 0, 1, 1, 0, 1])"
            ]
          },
          "metadata": {},
          "execution_count": 43
        }
      ]
    },
    {
      "cell_type": "code",
      "source": [
        "from sklearn.metrics import accuracy_score\n",
        "accuracy_score(test_labels, classifier.predict(img_flatten(test_images)))"
      ],
      "metadata": {
        "colab": {
          "base_uri": "https://localhost:8080/"
        },
        "id": "fORYJzJ1P-hA",
        "outputId": "46334600-e4a9-4ddb-a631-db7bfeede488"
      },
      "execution_count": 44,
      "outputs": [
        {
          "output_type": "stream",
          "name": "stdout",
          "text": [
            "7\n"
          ]
        },
        {
          "output_type": "execute_result",
          "data": {
            "text/plain": [
              "1.0"
            ]
          },
          "metadata": {},
          "execution_count": 44
        }
      ]
    },
    {
      "cell_type": "code",
      "source": [],
      "metadata": {
        "id": "9hKwu59Oa3WY"
      },
      "execution_count": 44,
      "outputs": []
    }
  ]
}